{
  "nbformat": 4,
  "nbformat_minor": 0,
  "metadata": {
    "colab": {
      "provenance": [],
      "authorship_tag": "ABX9TyMUPeGS6sEPoglC98MMcwU/",
      "include_colab_link": true
    },
    "kernelspec": {
      "name": "python3",
      "display_name": "Python 3"
    },
    "language_info": {
      "name": "python"
    }
  },
  "cells": [
    {
      "cell_type": "markdown",
      "metadata": {
        "id": "view-in-github",
        "colab_type": "text"
      },
      "source": [
        "<a href=\"https://colab.research.google.com/github/PosgradoMNA/actividades-semanales-iayaa-RodrigoPepi/blob/main/Actividad_Semana_3.ipynb\" target=\"_parent\"><img src=\"https://colab.research.google.com/assets/colab-badge.svg\" alt=\"Open In Colab\"/></a>"
      ]
    },
    {
      "cell_type": "code",
      "execution_count": 33,
      "metadata": {
        "colab": {
          "base_uri": "https://localhost:8080/",
          "height": 206
        },
        "id": "hP7s2GanubSw",
        "outputId": "74a014ad-1b21-4e7e-8baf-b79ba852bd60"
      },
      "outputs": [
        {
          "output_type": "execute_result",
          "data": {
            "text/plain": [
              "     x1       x2          x3\n",
              "0 -0.72   0.5184   -0.373248\n",
              "1  2.15   4.6225    9.938375\n",
              "2 -3.23  10.4329  -33.698267\n",
              "3  5.00  25.0000  125.000000\n",
              "4  0.73   0.5329    0.389017"
            ],
            "text/html": [
              "\n",
              "  <div id=\"df-c5c3d35e-7011-45e4-9d75-abd06661608d\">\n",
              "    <div class=\"colab-df-container\">\n",
              "      <div>\n",
              "<style scoped>\n",
              "    .dataframe tbody tr th:only-of-type {\n",
              "        vertical-align: middle;\n",
              "    }\n",
              "\n",
              "    .dataframe tbody tr th {\n",
              "        vertical-align: top;\n",
              "    }\n",
              "\n",
              "    .dataframe thead th {\n",
              "        text-align: right;\n",
              "    }\n",
              "</style>\n",
              "<table border=\"1\" class=\"dataframe\">\n",
              "  <thead>\n",
              "    <tr style=\"text-align: right;\">\n",
              "      <th></th>\n",
              "      <th>x1</th>\n",
              "      <th>x2</th>\n",
              "      <th>x3</th>\n",
              "    </tr>\n",
              "  </thead>\n",
              "  <tbody>\n",
              "    <tr>\n",
              "      <th>0</th>\n",
              "      <td>-0.72</td>\n",
              "      <td>0.5184</td>\n",
              "      <td>-0.373248</td>\n",
              "    </tr>\n",
              "    <tr>\n",
              "      <th>1</th>\n",
              "      <td>2.15</td>\n",
              "      <td>4.6225</td>\n",
              "      <td>9.938375</td>\n",
              "    </tr>\n",
              "    <tr>\n",
              "      <th>2</th>\n",
              "      <td>-3.23</td>\n",
              "      <td>10.4329</td>\n",
              "      <td>-33.698267</td>\n",
              "    </tr>\n",
              "    <tr>\n",
              "      <th>3</th>\n",
              "      <td>5.00</td>\n",
              "      <td>25.0000</td>\n",
              "      <td>125.000000</td>\n",
              "    </tr>\n",
              "    <tr>\n",
              "      <th>4</th>\n",
              "      <td>0.73</td>\n",
              "      <td>0.5329</td>\n",
              "      <td>0.389017</td>\n",
              "    </tr>\n",
              "  </tbody>\n",
              "</table>\n",
              "</div>\n",
              "      <button class=\"colab-df-convert\" onclick=\"convertToInteractive('df-c5c3d35e-7011-45e4-9d75-abd06661608d')\"\n",
              "              title=\"Convert this dataframe to an interactive table.\"\n",
              "              style=\"display:none;\">\n",
              "        \n",
              "  <svg xmlns=\"http://www.w3.org/2000/svg\" height=\"24px\"viewBox=\"0 0 24 24\"\n",
              "       width=\"24px\">\n",
              "    <path d=\"M0 0h24v24H0V0z\" fill=\"none\"/>\n",
              "    <path d=\"M18.56 5.44l.94 2.06.94-2.06 2.06-.94-2.06-.94-.94-2.06-.94 2.06-2.06.94zm-11 1L8.5 8.5l.94-2.06 2.06-.94-2.06-.94L8.5 2.5l-.94 2.06-2.06.94zm10 10l.94 2.06.94-2.06 2.06-.94-2.06-.94-.94-2.06-.94 2.06-2.06.94z\"/><path d=\"M17.41 7.96l-1.37-1.37c-.4-.4-.92-.59-1.43-.59-.52 0-1.04.2-1.43.59L10.3 9.45l-7.72 7.72c-.78.78-.78 2.05 0 2.83L4 21.41c.39.39.9.59 1.41.59.51 0 1.02-.2 1.41-.59l7.78-7.78 2.81-2.81c.8-.78.8-2.07 0-2.86zM5.41 20L4 18.59l7.72-7.72 1.47 1.35L5.41 20z\"/>\n",
              "  </svg>\n",
              "      </button>\n",
              "      \n",
              "  <style>\n",
              "    .colab-df-container {\n",
              "      display:flex;\n",
              "      flex-wrap:wrap;\n",
              "      gap: 12px;\n",
              "    }\n",
              "\n",
              "    .colab-df-convert {\n",
              "      background-color: #E8F0FE;\n",
              "      border: none;\n",
              "      border-radius: 50%;\n",
              "      cursor: pointer;\n",
              "      display: none;\n",
              "      fill: #1967D2;\n",
              "      height: 32px;\n",
              "      padding: 0 0 0 0;\n",
              "      width: 32px;\n",
              "    }\n",
              "\n",
              "    .colab-df-convert:hover {\n",
              "      background-color: #E2EBFA;\n",
              "      box-shadow: 0px 1px 2px rgba(60, 64, 67, 0.3), 0px 1px 3px 1px rgba(60, 64, 67, 0.15);\n",
              "      fill: #174EA6;\n",
              "    }\n",
              "\n",
              "    [theme=dark] .colab-df-convert {\n",
              "      background-color: #3B4455;\n",
              "      fill: #D2E3FC;\n",
              "    }\n",
              "\n",
              "    [theme=dark] .colab-df-convert:hover {\n",
              "      background-color: #434B5C;\n",
              "      box-shadow: 0px 1px 3px 1px rgba(0, 0, 0, 0.15);\n",
              "      filter: drop-shadow(0px 1px 2px rgba(0, 0, 0, 0.3));\n",
              "      fill: #FFFFFF;\n",
              "    }\n",
              "  </style>\n",
              "\n",
              "      <script>\n",
              "        const buttonEl =\n",
              "          document.querySelector('#df-c5c3d35e-7011-45e4-9d75-abd06661608d button.colab-df-convert');\n",
              "        buttonEl.style.display =\n",
              "          google.colab.kernel.accessAllowed ? 'block' : 'none';\n",
              "\n",
              "        async function convertToInteractive(key) {\n",
              "          const element = document.querySelector('#df-c5c3d35e-7011-45e4-9d75-abd06661608d');\n",
              "          const dataTable =\n",
              "            await google.colab.kernel.invokeFunction('convertToInteractive',\n",
              "                                                     [key], {});\n",
              "          if (!dataTable) return;\n",
              "\n",
              "          const docLinkHtml = 'Like what you see? Visit the ' +\n",
              "            '<a target=\"_blank\" href=https://colab.research.google.com/notebooks/data_table.ipynb>data table notebook</a>'\n",
              "            + ' to learn more about interactive tables.';\n",
              "          element.innerHTML = '';\n",
              "          dataTable['output_type'] = 'display_data';\n",
              "          await google.colab.output.renderOutput(dataTable, element);\n",
              "          const docLink = document.createElement('div');\n",
              "          docLink.innerHTML = docLinkHtml;\n",
              "          element.appendChild(docLink);\n",
              "        }\n",
              "      </script>\n",
              "    </div>\n",
              "  </div>\n",
              "  "
            ]
          },
          "metadata": {},
          "execution_count": 33
        }
      ],
      "source": [
        "import numpy as np\n",
        "import matplotlib.pyplot as plt \n",
        "import random \n",
        "import seaborn as sns\n",
        "import pandas as pd\n",
        "\n",
        "from sklearn.linear_model import LinearRegression, Lasso, Ridge, ElasticNet\n",
        "# Se definen las 3 variables en el array mostrado \n",
        "x1 = np.array([-.72,2.15,-3.23,5,.73,-1.6,4,.61,.94])  # Primer factor lineal\n",
        "x2 = x1*x1              # Segundo factor cuadrático\n",
        "x3 = x1*x1*x1           #Tercer factor cúbico\n",
        "\n",
        "# Definir matriz con datos de entrada X como un dataframe\n",
        "# La matriz estara formada por 3 columnas con factores lineales, cuadraticos y cubicos\n",
        "\n",
        "w = np.concatenate((np.vstack(x1),np.vstack(x2),np.vstack(x3)),axis = 1)\n",
        "w.shape\n",
        "\n",
        "X = pd.DataFrame(w,columns=['x1','x2','x3'])\n",
        "X.head()\n"
      ]
    },
    {
      "cell_type": "code",
      "source": [
        "# Se definen los pesos a los ponderadores de manera arbitraria\n",
        "# Se establece relación polinomial cúbica en cada salida de la variable Y:\n",
        "\n",
        "w0 = 180\n",
        "w1 = -3/4\n",
        "w2 = -45\n",
        "w3 = 70\n",
        "\n",
        "print('Pesos (coeficientes) de una función polinomial de grado cúbico como función de salida:')\n",
        "print('lineal: %.2f, cuadrático: %.2f cubo: %.2f' % (w1, w2, w3))"
      ],
      "metadata": {
        "colab": {
          "base_uri": "https://localhost:8080/"
        },
        "id": "iMGKN1PU4Pzp",
        "outputId": "eba0347e-5ec1-462a-9a8d-01e94a8565aa"
      },
      "execution_count": 29,
      "outputs": [
        {
          "output_type": "stream",
          "name": "stdout",
          "text": [
            "Pesos (coeficientes) de una función polinomial de grado cúbico como función de salida:\n",
            "lineal: -0.75, cuadrático: -45.00 cubo: 70.00\n"
          ]
        }
      ]
    },
    {
      "cell_type": "code",
      "source": [
        "# Se define la variable de salida con algo de ruido para que el problema no\n",
        "# se reduzca a ser sólo un problema de interpolación\n",
        "\n",
        "random.seed(1)\n",
        "yreal =[]\n",
        "for x in x1: \n",
        "  noise=200*(random.random()-0.5)\n",
        "  cc = w3*np.power(x,3) + w2*np.power(x,2) + w1*x + w0 + noise\n",
        "  yreal.append(cc)\n",
        "\n",
        "plt.scatter(x1,yreal)\n",
        "plt.show\n"
      ],
      "metadata": {
        "colab": {
          "base_uri": "https://localhost:8080/",
          "height": 282
        },
        "id": "T6nIgXGY40Q3",
        "outputId": "c8f77e28-6900-4637-93e0-043d60dbfeb4"
      },
      "execution_count": 34,
      "outputs": [
        {
          "output_type": "execute_result",
          "data": {
            "text/plain": [
              "<function matplotlib.pyplot.show(*args, **kw)>"
            ]
          },
          "metadata": {},
          "execution_count": 34
        },
        {
          "output_type": "display_data",
          "data": {
            "text/plain": [
              "<Figure size 432x288 with 1 Axes>"
            ],
            "image/png": "[encoded data removed]"
          },
          "metadata": {
            "needs_background": "light"
          }
        }
      ]
    },
    {
      "cell_type": "code",
      "source": [
        "# Definimos 4 modelos: el de regresión lineal múltiple\n",
        "# De RLM con regularización de Lasso\n",
        "# RLM con regularización de Ridge\n",
        "# Regularización de Elasticnet\n",
        "\n",
        "modelos = []\n",
        "modelos.append(('LR',LinearRegression()))\n",
        "modelos.append(('LASSO', Lasso(alpha = 21))) # entre más aumenta su valor, más penaliza los pesos y comienzan a tender a cero; sólo a los que considera no relevantes\n",
        "modelos.append(('RIDGE', Ridge(alpha=30)))    # ebtre más aumenta su valore, todos los factores son penalizados haciéndolos tender a cero\n",
        "modelos.append(('EN',ElasticNet(alpha=1, l1_ratio=.5)))\n",
        "\n",
        "yhat0 = []  # Predicciones modelo RLM\n",
        "yhat1 = []  # Predicciones modelo RLM L1\n",
        "yhat2 = []  # Predicciones modelo RLM L2\n",
        "yhat12 = [] # Predicciones modelo RLM L1 y L2\n",
        "\n",
        "for name, model in modelos: \n",
        "    #entrenamos el modelo seleccionado y obtenemos sus predicciones: \n",
        "    print('%s:' % name)\n",
        "    mm = model.fit(X, np.ravel(yreal))\n",
        "    yhat = mm.predict(X)\n",
        "  \n",
        "    print(mm.intercept_)   # por si deseas conocer w0.\n",
        "    print(mm.coef_)       # despliegue de los pesos obtenidos\n",
        "\n",
        "    if name=='LR':\n",
        "      yhat0.append(yhat)\n",
        "      print('\\n')\n",
        "    elif name=='LASSO':\n",
        "      yhat1.append(yhat)\n",
        "      print('\\n')\n",
        "    elif name=='RIDGE':\n",
        "      yhat2.append(yhat)\n",
        "      print('\\n')\n",
        "    else:\n",
        "      yhat12.append(yhat)\n"
      ],
      "metadata": {
        "colab": {
          "base_uri": "https://localhost:8080/"
        },
        "id": "Z79Yhah56gMA",
        "outputId": "387154e2-d424-43d5-e440-457b1f995afe"
      },
      "execution_count": 41,
      "outputs": [
        {
          "output_type": "stream",
          "name": "stdout",
          "text": [
            "LR:\n",
            "152.69055374540085\n",
            "[ 28.12824361 -37.06218579  67.10624522]\n",
            "\n",
            "\n",
            "LASSO:\n",
            "157.44592563124615\n",
            "[  9.97553613 -38.1952211   68.14973485]\n",
            "\n",
            "\n",
            "RIDGE:\n",
            "135.63924309471054\n",
            "[ 12.84674296 -32.34307223  67.02228567]\n",
            "\n",
            "\n",
            "EN:\n",
            "151.87885769427396\n",
            "[ 21.2605907  -36.78575768  67.38107205]\n"
          ]
        }
      ]
    },
    {
      "cell_type": "code",
      "source": [
        "# Para Visualizar los resultados obtenidos\n",
        "plt.scatter(x1, np.ravel(yreal), marker='^', label='real')  \n",
        "\n",
        "plt.scatter(x1, np.ravel(yhat0), marker='_', label='LR')  \n",
        "plt.scatter(x1, np.ravel(yhat1), marker='o', label='lasso')  \n",
        "plt.scatter(x1, np.ravel(yhat2), marker='d', label='ridge')  \n",
        "plt.scatter(x1, np.ravel(yhat12), marker='*', label='e-net')\n",
        "\n",
        "plt.legend(loc=2)\n",
        "plt.show()"
      ],
      "metadata": {
        "colab": {
          "base_uri": "https://localhost:8080/",
          "height": 265
        },
        "id": "oOEKC4gX9Pvr",
        "outputId": "2b8b94ae-a188-4be6-9df3-a2dbe2d9616d"
      },
      "execution_count": 40,
      "outputs": [
        {
          "output_type": "display_data",
          "data": {
            "text/plain": [
              "<Figure size 432x288 with 1 Axes>"
            ],
            "image/png": "[encoded data removed]"
          },
          "metadata": {
            "needs_background": "light"
          }
        }
      ]
    },
    {
      "cell_type": "code",
      "source": [
        "import numpy as np\n",
        "import pandas as pd\n",
        "import seaborn as sns \n",
        "import matplotlib.pyplot as plt \n",
        "\n",
        "from sklearn.model_selection import train_test_split\n",
        "\n",
        "from sklearn.pipeline import Pipeline\n",
        "from sklearn.compose import ColumnTransformer\n",
        "\n",
        "from sklearn.impute import SimpleImputer\n",
        "from sklearn.preprocessing import MinMaxScaler, OneHotEncoder\n",
        "\n",
        "from sklearn.linear_model import LogisticRegression # LRM\n",
        "from sklearn.tree import DecisionTreeClassifier     # DTM\n",
        "from sklearn.neural_network import MLPClassifier    # MLPC\n",
        "from sklearn.neighbors import KNeighborsClassifier  #KNM\n",
        "from sklearn.svm import SVC\n",
        "\n",
        "from sklearn.model_selection import cross_val_score\n",
        "from sklearn.model_selection import RepeatedStratifiedKFold\n",
        "\n",
        "mypath = 'https://archive.ics.uci.edu/ml/machine-learning-databases/statlog/australian/australian.dat'\n",
        "\n",
        "data = pd.read_csv(mypath, sep=' ', header = None)\n",
        "data.columns = ['A1','A2','A3','A4','A5','A6','A7','A8','A9','A10','A11','A12','A13','A14','class']\n",
        "print(data.shape)\n",
        "data.head()\n"
      ],
      "metadata": {
        "colab": {
          "base_uri": "https://localhost:8080/",
          "height": 224
        },
        "id": "e3iM7nAz-zHq",
        "outputId": "b79a1dd2-7e6f-4f17-a362-61603c847d28"
      },
      "execution_count": 42,
      "outputs": [
        {
          "output_type": "stream",
          "name": "stdout",
          "text": [
            "(690, 15)\n"
          ]
        },
        {
          "output_type": "execute_result",
          "data": {
            "text/plain": [
              "   A1     A2     A3  A4  A5  A6     A7  A8  A9  A10  A11  A12  A13   A14  \\\n",
              "0   1  22.08  11.46   2   4   4  1.585   0   0    0    1    2  100  1213   \n",
              "1   0  22.67   7.00   2   8   4  0.165   0   0    0    0    2  160     1   \n",
              "2   0  29.58   1.75   1   4   4  1.250   0   0    0    1    2  280     1   \n",
              "3   0  21.67  11.50   1   5   3  0.000   1   1   11    1    2    0     1   \n",
              "4   1  20.17   8.17   2   6   4  1.960   1   1   14    0    2   60   159   \n",
              "\n",
              "   class  \n",
              "0      0  \n",
              "1      0  \n",
              "2      0  \n",
              "3      1  \n",
              "4      1  "
            ],
            "text/html": [
              "\n",
              "  <div id=\"df-5f79b203-9729-4397-b81b-76f9fa9ad26b\">\n",
              "    <div class=\"colab-df-container\">\n",
              "      <div>\n",
              "<style scoped>\n",
              "    .dataframe tbody tr th:only-of-type {\n",
              "        vertical-align: middle;\n",
              "    }\n",
              "\n",
              "    .dataframe tbody tr th {\n",
              "        vertical-align: top;\n",
              "    }\n",
              "\n",
              "    .dataframe thead th {\n",
              "        text-align: right;\n",
              "    }\n",
              "</style>\n",
              "<table border=\"1\" class=\"dataframe\">\n",
              "  <thead>\n",
              "    <tr style=\"text-align: right;\">\n",
              "      <th></th>\n",
              "      <th>A1</th>\n",
              "      <th>A2</th>\n",
              "      <th>A3</th>\n",
              "      <th>A4</th>\n",
              "      <th>A5</th>\n",
              "      <th>A6</th>\n",
              "      <th>A7</th>\n",
              "      <th>A8</th>\n",
              "      <th>A9</th>\n",
              "      <th>A10</th>\n",
              "      <th>A11</th>\n",
              "      <th>A12</th>\n",
              "      <th>A13</th>\n",
              "      <th>A14</th>\n",
              "      <th>class</th>\n",
              "    </tr>\n",
              "  </thead>\n",
              "  <tbody>\n",
              "    <tr>\n",
              "      <th>0</th>\n",
              "      <td>1</td>\n",
              "      <td>22.08</td>\n",
              "      <td>11.46</td>\n",
              "      <td>2</td>\n",
              "      <td>4</td>\n",
              "      <td>4</td>\n",
              "      <td>1.585</td>\n",
              "      <td>0</td>\n",
              "      <td>0</td>\n",
              "      <td>0</td>\n",
              "      <td>1</td>\n",
              "      <td>2</td>\n",
              "      <td>100</td>\n",
              "      <td>1213</td>\n",
              "      <td>0</td>\n",
              "    </tr>\n",
              "    <tr>\n",
              "      <th>1</th>\n",
              "      <td>0</td>\n",
              "      <td>22.67</td>\n",
              "      <td>7.00</td>\n",
              "      <td>2</td>\n",
              "      <td>8</td>\n",
              "      <td>4</td>\n",
              "      <td>0.165</td>\n",
              "      <td>0</td>\n",
              "      <td>0</td>\n",
              "      <td>0</td>\n",
              "      <td>0</td>\n",
              "      <td>2</td>\n",
              "      <td>160</td>\n",
              "      <td>1</td>\n",
              "      <td>0</td>\n",
              "    </tr>\n",
              "    <tr>\n",
              "      <th>2</th>\n",
              "      <td>0</td>\n",
              "      <td>29.58</td>\n",
              "      <td>1.75</td>\n",
              "      <td>1</td>\n",
              "      <td>4</td>\n",
              "      <td>4</td>\n",
              "      <td>1.250</td>\n",
              "      <td>0</td>\n",
              "      <td>0</td>\n",
              "      <td>0</td>\n",
              "      <td>1</td>\n",
              "      <td>2</td>\n",
              "      <td>280</td>\n",
              "      <td>1</td>\n",
              "      <td>0</td>\n",
              "    </tr>\n",
              "    <tr>\n",
              "      <th>3</th>\n",
              "      <td>0</td>\n",
              "      <td>21.67</td>\n",
              "      <td>11.50</td>\n",
              "      <td>1</td>\n",
              "      <td>5</td>\n",
              "      <td>3</td>\n",
              "      <td>0.000</td>\n",
              "      <td>1</td>\n",
              "      <td>1</td>\n",
              "      <td>11</td>\n",
              "      <td>1</td>\n",
              "      <td>2</td>\n",
              "      <td>0</td>\n",
              "      <td>1</td>\n",
              "      <td>1</td>\n",
              "    </tr>\n",
              "    <tr>\n",
              "      <th>4</th>\n",
              "      <td>1</td>\n",
              "      <td>20.17</td>\n",
              "      <td>8.17</td>\n",
              "      <td>2</td>\n",
              "      <td>6</td>\n",
              "      <td>4</td>\n",
              "      <td>1.960</td>\n",
              "      <td>1</td>\n",
              "      <td>1</td>\n",
              "      <td>14</td>\n",
              "      <td>0</td>\n",
              "      <td>2</td>\n",
              "      <td>60</td>\n",
              "      <td>159</td>\n",
              "      <td>1</td>\n",
              "    </tr>\n",
              "  </tbody>\n",
              "</table>\n",
              "</div>\n",
              "      <button class=\"colab-df-convert\" onclick=\"convertToInteractive('df-5f79b203-9729-4397-b81b-76f9fa9ad26b')\"\n",
              "              title=\"Convert this dataframe to an interactive table.\"\n",
              "              style=\"display:none;\">\n",
              "        \n",
              "  <svg xmlns=\"http://www.w3.org/2000/svg\" height=\"24px\"viewBox=\"0 0 24 24\"\n",
              "       width=\"24px\">\n",
              "    <path d=\"M0 0h24v24H0V0z\" fill=\"none\"/>\n",
              "    <path d=\"M18.56 5.44l.94 2.06.94-2.06 2.06-.94-2.06-.94-.94-2.06-.94 2.06-2.06.94zm-11 1L8.5 8.5l.94-2.06 2.06-.94-2.06-.94L8.5 2.5l-.94 2.06-2.06.94zm10 10l.94 2.06.94-2.06 2.06-.94-2.06-.94-.94-2.06-.94 2.06-2.06.94z\"/><path d=\"M17.41 7.96l-1.37-1.37c-.4-.4-.92-.59-1.43-.59-.52 0-1.04.2-1.43.59L10.3 9.45l-7.72 7.72c-.78.78-.78 2.05 0 2.83L4 21.41c.39.39.9.59 1.41.59.51 0 1.02-.2 1.41-.59l7.78-7.78 2.81-2.81c.8-.78.8-2.07 0-2.86zM5.41 20L4 18.59l7.72-7.72 1.47 1.35L5.41 20z\"/>\n",
              "  </svg>\n",
              "      </button>\n",
              "      \n",
              "  <style>\n",
              "    .colab-df-container {\n",
              "      display:flex;\n",
              "      flex-wrap:wrap;\n",
              "      gap: 12px;\n",
              "    }\n",
              "\n",
              "    .colab-df-convert {\n",
              "      background-color: #E8F0FE;\n",
              "      border: none;\n",
              "      border-radius: 50%;\n",
              "      cursor: pointer;\n",
              "      display: none;\n",
              "      fill: #1967D2;\n",
              "      height: 32px;\n",
              "      padding: 0 0 0 0;\n",
              "      width: 32px;\n",
              "    }\n",
              "\n",
              "    .colab-df-convert:hover {\n",
              "      background-color: #E2EBFA;\n",
              "      box-shadow: 0px 1px 2px rgba(60, 64, 67, 0.3), 0px 1px 3px 1px rgba(60, 64, 67, 0.15);\n",
              "      fill: #174EA6;\n",
              "    }\n",
              "\n",
              "    [theme=dark] .colab-df-convert {\n",
              "      background-color: #3B4455;\n",
              "      fill: #D2E3FC;\n",
              "    }\n",
              "\n",
              "    [theme=dark] .colab-df-convert:hover {\n",
              "      background-color: #434B5C;\n",
              "      box-shadow: 0px 1px 3px 1px rgba(0, 0, 0, 0.15);\n",
              "      filter: drop-shadow(0px 1px 2px rgba(0, 0, 0, 0.3));\n",
              "      fill: #FFFFFF;\n",
              "    }\n",
              "  </style>\n",
              "\n",
              "      <script>\n",
              "        const buttonEl =\n",
              "          document.querySelector('#df-5f79b203-9729-4397-b81b-76f9fa9ad26b button.colab-df-convert');\n",
              "        buttonEl.style.display =\n",
              "          google.colab.kernel.accessAllowed ? 'block' : 'none';\n",
              "\n",
              "        async function convertToInteractive(key) {\n",
              "          const element = document.querySelector('#df-5f79b203-9729-4397-b81b-76f9fa9ad26b');\n",
              "          const dataTable =\n",
              "            await google.colab.kernel.invokeFunction('convertToInteractive',\n",
              "                                                     [key], {});\n",
              "          if (!dataTable) return;\n",
              "\n",
              "          const docLinkHtml = 'Like what you see? Visit the ' +\n",
              "            '<a target=\"_blank\" href=https://colab.research.google.com/notebooks/data_table.ipynb>data table notebook</a>'\n",
              "            + ' to learn more about interactive tables.';\n",
              "          element.innerHTML = '';\n",
              "          dataTable['output_type'] = 'display_data';\n",
              "          await google.colab.output.renderOutput(dataTable, element);\n",
              "          const docLink = document.createElement('div');\n",
              "          docLink.innerHTML = docLinkHtml;\n",
              "          element.appendChild(docLink);\n",
              "        }\n",
              "      </script>\n",
              "    </div>\n",
              "  </div>\n",
              "  "
            ]
          },
          "metadata": {},
          "execution_count": 42
        }
      ]
    },
    {
      "cell_type": "code",
      "source": [
        "# Revisar distribución de los datos de los factores se deben de agrupar los factores que representen menos que un 5% de la información\n",
        "data['A4'].value_counts() #Revisamos los valores del factor A4"
      ],
      "metadata": {
        "colab": {
          "base_uri": "https://localhost:8080/"
        },
        "id": "py_lsLxP_xnR",
        "outputId": "c602cb0c-4d70-4675-ea07-e131bff9d7ed"
      },
      "execution_count": 43,
      "outputs": [
        {
          "output_type": "execute_result",
          "data": {
            "text/plain": [
              "2    525\n",
              "1    163\n",
              "3      2\n",
              "Name: A4, dtype: int64"
            ]
          },
          "metadata": {},
          "execution_count": 43
        }
      ]
    },
    {
      "cell_type": "code",
      "source": [
        "data['A5'].value_counts()"
      ],
      "metadata": {
        "colab": {
          "base_uri": "https://localhost:8080/"
        },
        "id": "IOpGI4kwE8SB",
        "outputId": "eb66131f-a6d2-48fe-c22f-a26441a7eb62"
      },
      "execution_count": 45,
      "outputs": [
        {
          "output_type": "execute_result",
          "data": {
            "text/plain": [
              "8     146\n",
              "11     78\n",
              "9      64\n",
              "3      59\n",
              "6      54\n",
              "1      53\n",
              "4      51\n",
              "13     41\n",
              "14     38\n",
              "7      38\n",
              "2      30\n",
              "10     25\n",
              "5      10\n",
              "12      3\n",
              "Name: A5, dtype: int64"
            ]
          },
          "metadata": {},
          "execution_count": 45
        }
      ]
    },
    {
      "cell_type": "code",
      "source": [
        "data['A6'].value_counts()"
      ],
      "metadata": {
        "colab": {
          "base_uri": "https://localhost:8080/"
        },
        "id": "6YZIZeyNFISU",
        "outputId": "d392edd0-f12a-489d-a71f-9a48105adf16"
      },
      "execution_count": 46,
      "outputs": [
        {
          "output_type": "execute_result",
          "data": {
            "text/plain": [
              "4    408\n",
              "8    138\n",
              "5     59\n",
              "1     57\n",
              "3      8\n",
              "9      8\n",
              "2      6\n",
              "7      6\n",
              "Name: A6, dtype: int64"
            ]
          },
          "metadata": {},
          "execution_count": 46
        }
      ]
    },
    {
      "cell_type": "code",
      "source": [
        "data['A8'].value_counts()"
      ],
      "metadata": {
        "colab": {
          "base_uri": "https://localhost:8080/"
        },
        "id": "eE9c-pJfFKZQ",
        "outputId": "912c16d4-fe9b-4f1d-a819-8ecbe51b43a4"
      },
      "execution_count": 47,
      "outputs": [
        {
          "output_type": "execute_result",
          "data": {
            "text/plain": [
              "1    361\n",
              "0    329\n",
              "Name: A8, dtype: int64"
            ]
          },
          "metadata": {},
          "execution_count": 47
        }
      ]
    },
    {
      "cell_type": "code",
      "source": [
        "data['A9'].value_counts()"
      ],
      "metadata": {
        "colab": {
          "base_uri": "https://localhost:8080/"
        },
        "id": "Y0WG4K8TFNb6",
        "outputId": "4cdb60ce-67ba-46b6-bcfb-0ec41bda48cf"
      },
      "execution_count": 48,
      "outputs": [
        {
          "output_type": "execute_result",
          "data": {
            "text/plain": [
              "0    395\n",
              "1    295\n",
              "Name: A9, dtype: int64"
            ]
          },
          "metadata": {},
          "execution_count": 48
        }
      ]
    },
    {
      "cell_type": "code",
      "source": [
        "data['A11'].value_counts()"
      ],
      "metadata": {
        "colab": {
          "base_uri": "https://localhost:8080/"
        },
        "id": "mvg3a38pFQ_F",
        "outputId": "d5f7a905-cd15-4018-bca5-afff703e0c3a"
      },
      "execution_count": 49,
      "outputs": [
        {
          "output_type": "execute_result",
          "data": {
            "text/plain": [
              "0    374\n",
              "1    316\n",
              "Name: A11, dtype: int64"
            ]
          },
          "metadata": {},
          "execution_count": 49
        }
      ]
    },
    {
      "cell_type": "code",
      "source": [
        "data['A12'].value_counts()"
      ],
      "metadata": {
        "colab": {
          "base_uri": "https://localhost:8080/"
        },
        "id": "F0HoS8yBFTn6",
        "outputId": "1a8f1474-bea0-4380-8a28-f1b5162b3d05"
      },
      "execution_count": 50,
      "outputs": [
        {
          "output_type": "execute_result",
          "data": {
            "text/plain": [
              "2    625\n",
              "1     57\n",
              "3      8\n",
              "Name: A12, dtype: int64"
            ]
          },
          "metadata": {},
          "execution_count": 50
        }
      ]
    },
    {
      "cell_type": "code",
      "source": [
        "data['A4'] = data['A4'].map({2:2, 1:0, 3:0})\n",
        "data['A5'] = data['A5'].map({1:1,2:0,3:3,4:4,5:0,6:6,7:7,8:8,9:9,10:0,11:11,12:0,13:13,14:14})\n",
        "data['A6'] = data['A6'].map({1:1,2:0,3:0,4:4,5:5,7:0,8:8,9:0})\n",
        "data['A8'] = data['A8'].map({0:0, 1:1})\n",
        "data['A11'] = data['A11'].map({0:0, 1:1})\n",
        "data['A12'] = data['A12'].map({2:2, 1:0, 3:0})\n",
        "# Ahora sí, definimos nuestras variables de entrada y de salida, observamos que ambas son DataFrames de Pandas:\n",
        "\n",
        "X = data.iloc[:,:-1]  \n",
        "\n",
        "Y = data.iloc[:,-1]     # También puede ser: data[['class']]\n",
        "# Se considera sólo el 80% de la base para hacer validación cruzada y se deja el 20% para hacer pruebas\n",
        "\n",
        "Xcv, Xtest, ycv, ytest = train_test_split(X, Y, test_size=0.2, stratify=Y, random_state=1)  \n",
        "\n",
        "print(Xcv.shape, ': dimensión de datos de entrada para entrenamiento y validación')\n",
        "print(Xtest.shape, ': dimensión de datos de entrada para prueba')  \n",
        "\n",
        "print(ycv.shape, ': dimensión de variable de salida para entrenamiento y validación')\n",
        "print(ytest.shape, ': dimensión de variable de salida para prueba')"
      ],
      "metadata": {
        "colab": {
          "base_uri": "https://localhost:8080/"
        },
        "id": "lMueJfrBFZPX",
        "outputId": "ee69d899-2c8c-4445-bf12-e14ec07d667f"
      },
      "execution_count": 51,
      "outputs": [
        {
          "output_type": "stream",
          "name": "stdout",
          "text": [
            "(552, 14) : dimensión de datos de entrada para entrenamiento y validación\n",
            "(138, 14) : dimensión de datos de entrada para prueba\n",
            "(552,) : dimensión de variable de salida para entrenamiento y validación\n",
            "(138,) : dimensión de variable de salida para prueba\n"
          ]
        }
      ]
    },
    {
      "cell_type": "code",
      "source": [
        "ycv.sum()/ycv.shape[0] # Porcentaje de los créditos que sí fueron aprobados"
      ],
      "metadata": {
        "colab": {
          "base_uri": "https://localhost:8080/"
        },
        "id": "1vDbJmNyGnLZ",
        "outputId": "1c30239c-a339-4ea5-eed2-29afabbacd6d"
      },
      "execution_count": 52,
      "outputs": [
        {
          "output_type": "execute_result",
          "data": {
            "text/plain": [
              "0.44565217391304346"
            ]
          },
          "metadata": {},
          "execution_count": 52
        }
      ]
    },
    {
      "cell_type": "code",
      "source": [
        "# Transformaciones a factores numéricos de entrada:\n",
        "num_pipeline = Pipeline(steps = [('impMediana', SimpleImputer(strategy='median')),\n",
        "                                 ('escalaNum', MinMaxScaler(feature_range=(1,2)))])   \n",
        "num_pipeline_nombres = ['A2','A3','A7','A10','A13','A14']\n",
        "\n",
        "# Transformaciones a factores categóricos de entrada:\n",
        "catImp_pipeline = Pipeline(steps = [('impModa', SimpleImputer(strategy='most_frequent'))])  \n",
        "catImp_pipeline_nombres = ['A1', 'A4', 'A5', 'A6', 'A8', 'A9', 'A11', 'A12']\n",
        "\n",
        "catOHE_pipeline = Pipeline(steps = [('OneHotE', OneHotEncoder(drop='first'))])\n",
        "catOHE_pipeline_nombres = [ 'A4','A5','A6','A12']\n",
        "\n",
        "\n",
        "# Conjuntamos las transformaciones numéricas y categóricas que se estarán aplicando a los datos de entrada:\n",
        "columnasTransformer = ColumnTransformer(transformers = [('numpipe', num_pipeline, num_pipeline_nombres),\n",
        "                                                        ('catimp', catImp_pipeline, catImp_pipeline_nombres),\n",
        "                                                        ('catohe', catOHE_pipeline, catOHE_pipeline_nombres)],\n",
        "                                        remainder='passthrough')\n",
        "\n",
        "# A continuación se muestran diferentes modelos de aprendizaje supervisado:\n",
        "def get_models():\n",
        "  modelos = list()\n",
        "  nombres = list()\n",
        "\n",
        "  # MLR - Modelo de Regresión Logística:\n",
        "  modelos.append(LogisticRegression(solver='liblinear'))\n",
        "  nombres.append('LR')\n",
        "\n",
        "  # MDT - Modelo de Árbol de Decisión:\n",
        "  modelos.append(DecisionTreeClassifier())\n",
        "  nombres.append('DT')\n",
        "  \n",
        "  # MLP - Red Neuronal Artificial / Perceptrón Lineal Multicapa:  \n",
        "  modelos.append(MLPClassifier(hidden_layer_sizes=(30,), max_iter=3000))\n",
        "  nombres.append('MLP')\n",
        "  \n",
        "  # SVM - Máquina de Vector Soporte:\n",
        "  modelos.append(SVC(gamma='scale'))\n",
        "  nombres.append('SVM')\n",
        "\n",
        "  # kNN - k-Vecinos más cercanos:\n",
        "  modelos.append(KNeighborsClassifier())\n",
        "  nombres.append('kNN')\n",
        "  \n",
        "  return modelos, nombres"
      ],
      "metadata": {
        "id": "p4d8NJPuG2hq"
      },
      "execution_count": 53,
      "outputs": []
    },
    {
      "cell_type": "code",
      "source": [
        "# Para respetar la distribución posible de las clases en cada partición se tienen que tener datos generados estratificadamente\n",
        "modelos, nombres = get_models()  # cargamos los modelos a comparar\n",
        "resultados = list()   \n",
        "\n",
        "for i in range(len(modelos)):\n",
        "\n",
        "  pipeline = Pipeline(steps=[('ct',columnasTransformer),('m',modelos[i])])\n",
        "\n",
        "  cv = RepeatedStratifiedKFold(n_splits=10, n_repeats=3, random_state=0)\n",
        "  scores = cross_val_score(pipeline, Xcv, np.ravel(ycv), scoring='accuracy', cv=cv) # Realiza el pipeline de los datos de entrada xcv y ycv; califica en torno a 'precision'\n",
        "\n",
        "\n",
        "  resultados.append(scores)\n",
        "  print('>> %s: %.3f (%.3f)' % (nombres[i], np.mean(scores), np.std(scores))) # En esta línea de código se imprimen los valores de la media y de la desviación estándar"
      ],
      "metadata": {
        "colab": {
          "base_uri": "https://localhost:8080/"
        },
        "id": "eOJ-1okyHmzP",
        "outputId": "7eed4a3e-4e87-42a6-edf2-1e1ebd686120"
      },
      "execution_count": 54,
      "outputs": [
        {
          "output_type": "stream",
          "name": "stdout",
          "text": [
            ">> LR: 0.859 (0.041)\n",
            ">> DT: 0.818 (0.054)\n",
            ">> MLP: 0.840 (0.037)\n",
            ">> SVM: 0.851 (0.041)\n",
            ">> kNN: 0.795 (0.039)\n"
          ]
        }
      ]
    },
    {
      "cell_type": "code",
      "source": [
        "plt.boxplot(resultados, labels=nombres, showmeans=True)\n",
        "plt.show()"
      ],
      "metadata": {
        "colab": {
          "base_uri": "https://localhost:8080/",
          "height": 265
        },
        "id": "LRn-Dlg5IvvA",
        "outputId": "4b91bcf0-eb2d-48c2-afaf-361e1ddd09c9"
      },
      "execution_count": 55,
      "outputs": [
        {
          "output_type": "display_data",
          "data": {
            "text/plain": [
              "<Figure size 432x288 with 1 Axes>"
            ],
            "image/png": "[encoded data removed]"
          },
          "metadata": {
            "needs_background": "light"
          }
        }
      ]
    },
    {
      "cell_type": "code",
      "source": [
        "#from pandas.core.common import random_state\n",
        "\n",
        "def get_modelsRegs():\n",
        "  modelos, nombres = list(), list()\n",
        "\n",
        "  # LR - sin regularización:\n",
        "  modelos.append(LogisticRegression(penalty='none', solver='lbfgs', max_iter=2000, random_state=1))\n",
        "  nombres.append('LR')\n",
        "\n",
        "  # Lasso:\n",
        "  modelos.append(LogisticRegression(penalty='l1', solver='liblinear', max_iter=2000, C=1., random_state=1))\n",
        "  nombres.append('LASSO')\n",
        "  \n",
        "  # Ridge:\n",
        "  modelos.append(LogisticRegression(penalty='l2', solver='liblinear', max_iter=2000, C=10.01, random_state=1))\n",
        "  nombres.append('RIDGE')\n",
        "  \n",
        "  # Elastic-Net:\n",
        "  modelos.append(LogisticRegression(penalty='elasticnet', l1_ratio=0.5, solver='saga', max_iter=4000, C=1., random_state=1))\n",
        "  nombres.append('EN')\n",
        "\n",
        "  return modelos, nombres\n",
        "#‘newton-cg’ - [‘l2’, ‘none’] estas son las combinaciones aceptables para realizar penalizaciones, \n",
        "#‘lbfgs’ - [‘l2’, ‘none’]\n",
        "#‘liblinear’ - [‘l1’, ‘l2’]\n",
        "#‘sag’ - [‘l2’, ‘none’]\n",
        "#‘saga’ - [‘elasticnet’, ‘l1’, ‘l2’, ‘none’]"
      ],
      "metadata": {
        "id": "fPtHrh4xJlp1"
      },
      "execution_count": 56,
      "outputs": []
    },
    {
      "cell_type": "code",
      "source": [
        "modelos, nombres = get_modelsRegs()\n",
        "resultados = list() \n",
        "\n",
        "for i in range(len(modelos)):\n",
        "\n",
        "  pipeline = Pipeline(steps=[('ct',columnasTransformer),('m',modelos[i])])\n",
        "\n",
        "  cv = RepeatedStratifiedKFold(n_splits=10, n_repeats=5, random_state=8)\n",
        "  scores = cross_val_score(pipeline, Xcv, np.ravel(ycv), scoring='accuracy', cv=cv)\n",
        "\n",
        "  resultados.append(scores)\n",
        "  print('>> %s %.3f (%.3f)' % (nombres[i], np.mean(scores), np.std(scores)))\n",
        "\n",
        "\n",
        "plt.boxplot(resultados, labels=nombres, showmeans=True)\n",
        "plt.show()"
      ],
      "metadata": {
        "colab": {
          "base_uri": "https://localhost:8080/",
          "height": 334
        },
        "id": "sUUygq-9KDca",
        "outputId": "41a17cea-6f7d-4097-d649-4e5d2808f235"
      },
      "execution_count": 58,
      "outputs": [
        {
          "output_type": "stream",
          "name": "stdout",
          "text": [
            ">> LR 0.862 (0.047)\n",
            ">> LASSO 0.860 (0.045)\n",
            ">> RIDGE 0.861 (0.046)\n",
            ">> EN 0.859 (0.046)\n"
          ]
        },
        {
          "output_type": "display_data",
          "data": {
            "text/plain": [
              "<Figure size 432x288 with 1 Axes>"
            ],
            "image/png": "[encoded data removed]"
          },
          "metadata": {
            "needs_background": "light"
          }
        }
      ]
    },
    {
      "cell_type": "code",
      "source": [
        "# Llevar a cabo el fine tuning de los modelos\n",
        "# Para realizar esta búsqueda, se utilizará la búsqueda por malla para encontrar una mejor configuración de híper parámetros\n",
        "from sklearn.model_selection import GridSearchCV\n",
        "from sklearn.metrics import confusion_matrix\n",
        "# RIDGE - métrica L2:\n",
        "\n",
        "modelo = LogisticRegression(penalty='l2', max_iter=10000, random_state=1)\n",
        "\n",
        "dicc_grid = {'C':[0.0001,0.01,0.1,1.0,10.,100.],\n",
        "             'solver':['newton-cg','lbfgs','liblinear','sag','saga'] # Se crea diccionario par apoder utilizar diferentes configuraciones al evaluar\n",
        "             }\n",
        "\n",
        "cv = RepeatedStratifiedKFold(n_splits=10, n_repeats=5, random_state=8)\n",
        "\n",
        "grid = GridSearchCV(estimator=modelo, \n",
        "                    param_grid=dicc_grid, \n",
        "                    cv=cv, \n",
        "                    scoring='accuracy')\n",
        "\n",
        "# Transformamos los datos de entrada:\n",
        "Xx = columnasTransformer.fit_transform(Xcv)\n",
        "\n",
        "# Llevamos a cabo el proceso de etrenamiento con validación-cruzada y búsqueda de malla.\n",
        "# Observa que de acuerdo a las opciones incluidas en la malla, se estarán realizando (6)(5)=30 \n",
        "# combinaciones diferentes, además de las (10)(5)=50 particiones de la validación-cruzada,\n",
        "# lo cual implica también un mayor tiempo de entrenamiento.\n",
        "\n",
        "grid.fit(Xx, np.ravel(ycv))\n",
        "\n",
        "print('Mejor valor de exactitud obtenido con la mejor combinación:', grid.best_score_)\n",
        "print('Mejor combinación de valores encontrados de los hiperparámetros:', grid.best_params_) # Se obtiene un 5% de mejoria contra el desempeño del modelo original\n",
        "print('Métrica utilizada:', grid.scoring)"
      ],
      "metadata": {
        "colab": {
          "base_uri": "https://localhost:8080/"
        },
        "id": "iUqXHHjCK4fg",
        "outputId": "898569fe-e528-4c05-d096-9fb9c17a5955"
      },
      "execution_count": 60,
      "outputs": [
        {
          "output_type": "stream",
          "name": "stdout",
          "text": [
            "Mejor valor de exactitud obtenido con la mejor combinación: 0.8637077922077921\n",
            "Mejor combinación de valores encontrados de los hiperparámetros: {'C': 100.0, 'solver': 'newton-cg'}\n",
            "Métrica utilizada: accuracy\n"
          ]
        }
      ]
    },
    {
      "cell_type": "code",
      "source": [
        "modelo = LogisticRegression(penalty='l2', \n",
        "                            max_iter=10000,\n",
        "                            C=100.0,\n",
        "                            solver='liblinear',\n",
        "                            random_state=1)\n",
        "\n",
        "# Entrenamos el modelo por última vez con los datos de entrenamiento y validación conjuntos:\n",
        "Xct = columnasTransformer.fit(Xcv)\n",
        "Xxt = Xct.transform(Xcv)\n",
        "modelo.fit(Xxt, np.ravel(ycv))\n",
        "\n",
        "# Transformamos los datos de prueba y los utilizamos por primera vez para obtener sus predicciones\n",
        "# y desempeño del modelo:\n",
        "\n",
        "Xxtest = Xct.transform(Xtest)\n",
        "print(modelo.score(Xxtest, np.ravel(ytest))) # Con este resultado se puede decir que el modelo tendrá el 84.06% en su desempeño promedio contra datos reales"
      ],
      "metadata": {
        "colab": {
          "base_uri": "https://localhost:8080/"
        },
        "id": "wt1iwhfWMvTi",
        "outputId": "aed270a0-1c25-4cdb-b65d-8bdcdfe6c82a"
      },
      "execution_count": 61,
      "outputs": [
        {
          "output_type": "stream",
          "name": "stdout",
          "text": [
            "0.8405797101449275\n"
          ]
        }
      ]
    },
    {
      "cell_type": "code",
      "source": [
        "# Predicciones del modelo utilizando una matriz de confusion\n",
        "pp = modelo.predict(Xxtest)\n",
        "cm = confusion_matrix(ytest, pp)\n",
        "print(cm)"
      ],
      "metadata": {
        "colab": {
          "base_uri": "https://localhost:8080/"
        },
        "id": "NcSXiMKtNHGa",
        "outputId": "daaf96bd-c8d0-4b81-fd00-e616c0e85a21"
      },
      "execution_count": 66,
      "outputs": [
        {
          "output_type": "stream",
          "name": "stdout",
          "text": [
            "[[63 14]\n",
            " [ 8 53]]\n"
          ]
        }
      ]
    },
    {
      "cell_type": "code",
      "source": [
        "# Codigo para imprimir una matriz de confusion\n",
        "txt = ['Verdaderos Negativos','Falsos Positivos','Falsos Negativos','Verdaderos Positivos']\n",
        "frecuencia = [\"{0:0.0f}\".format(value) for value in cm.flatten()]\n",
        "porcentaje = [\"{0:.1%}\".format(value) for value in cm.flatten()/np.sum(cm)]\n",
        "\n",
        "labels = [f\"{v1}\\n{v2}\\n{v3}\" for v1, v2, v3 in zip(txt,frecuencia,porcentaje)]\n",
        "labels = np.asarray(labels).reshape(2,2)\n",
        "\n",
        "ax = sns.heatmap(cm, annot=labels, fmt='', cmap='Blues', cbar=False)\n",
        "ax.set(ylabel=\"Etiquetas Reales\", xlabel=\"Etiquetas de Predicción\")\n",
        "plt.show()"
      ],
      "metadata": {
        "colab": {
          "base_uri": "https://localhost:8080/",
          "height": 280
        },
        "id": "T17hkpY1NRcB",
        "outputId": "f344b2f8-d89c-4365-8b1f-49bf2177a095"
      },
      "execution_count": 67,
      "outputs": [
        {
          "output_type": "display_data",
          "data": {
            "text/plain": [
              "<Figure size 432x288 with 1 Axes>"
            ],
            "image/png": "[encoded data removed]"
          },
          "metadata": {
            "needs_background": "light"
          }
        }
      ]
    }
  ]
}